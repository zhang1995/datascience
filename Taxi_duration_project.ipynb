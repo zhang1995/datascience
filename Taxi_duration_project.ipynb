{
 "cells": [
  {
   "cell_type": "markdown",
   "metadata": {},
   "source": [
    "# New York City Taxi Trip Duration"
   ]
  },
  {
   "cell_type": "markdown",
   "metadata": {},
   "source": [
    "In this competition, Kaggle is challenging you to build a model that predicts the total ride duration of taxi trips in New York City. Your primary dataset is one released by the NYC Taxi and Limousine Commission, which includes pickup time, geo-coordinates, number of passengers, and several other variables."
   ]
  },
  {
   "cell_type": "markdown",
   "metadata": {},
   "source": [
    "The evaluation metric for this competition is Root Mean Squared Logarithmic Error.\n",
    "\n",
    "The RMSLE is calculated as\n",
    "\n",
    "\n",
    "Where:\n",
    "\n",
    "ϵ is the RMSLE value (score)<br>\n",
    "n is the total number of observations in the (public/private) data set,<br>\n",
    "pi is your prediction of trip duration, and<br>\n",
    "ai is the actual trip duration for i.<br>\n",
    "log(x) is the natural logarithm of x<br>\n",
    "\n",
    "Submission File<br>\n",
    "\n",
    "For every row in the dataset, submission files should contain two columns: id and trip_duration.  The id corresponds to the column of that id in the test.csv. The file should contain a header and have the following format:\n",
    "\n",
    "|id |trip_duration|\n",
    "|:-:|:-:|\n",
    "|id00001|978|\n",
    "|id00002|978|\n",
    "|id00003|978|\n",
    "|id00004|978|\n"
   ]
  },
  {
   "cell_type": "code",
   "execution_count": 1,
   "metadata": {},
   "outputs": [
    {
     "data": {
      "text/html": [
       "<script>requirejs.config({paths: { 'plotly': ['https://cdn.plot.ly/plotly-latest.min']},});if(!window.Plotly) {{require(['plotly'],function(plotly) {window.Plotly=plotly;});}}</script>"
      ],
      "text/vnd.plotly.v1+html": [
       "<script>requirejs.config({paths: { 'plotly': ['https://cdn.plot.ly/plotly-latest.min']},});if(!window.Plotly) {{require(['plotly'],function(plotly) {window.Plotly=plotly;});}}</script>"
      ]
     },
     "metadata": {},
     "output_type": "display_data"
    }
   ],
   "source": [
    "%matplotlib inline\n",
    "import numpy as np\n",
    "import pandas as pd\n",
    "import matplotlib.pyplot as plt\n",
    "from sklearn import datasets\n",
    "from sklearn.model_selection import train_test_split\n",
    "import plotly.offline as py_offline\n",
    "import plotly.plotly as py\n",
    "import plotly.graph_objs as go\n",
    "\n",
    "py_offline.init_notebook_mode(connected=True)"
   ]
  },
  {
   "cell_type": "code",
   "execution_count": 2,
   "metadata": {},
   "outputs": [
    {
     "name": "stdout",
     "output_type": "stream",
     "text": [
      "          id  vendor_id      pickup_datetime     dropoff_datetime  \\\n",
      "0  id2875421          2  2016-03-14 17:24:55  2016-03-14 17:32:30   \n",
      "1  id2377394          1  2016-06-12 00:43:35  2016-06-12 00:54:38   \n",
      "2  id3858529          2  2016-01-19 11:35:24  2016-01-19 12:10:48   \n",
      "3  id3504673          2  2016-04-06 19:32:31  2016-04-06 19:39:40   \n",
      "4  id2181028          2  2016-03-26 13:30:55  2016-03-26 13:38:10   \n",
      "\n",
      "   passenger_count  pickup_longitude  pickup_latitude  dropoff_longitude  \\\n",
      "0                1        -73.982155        40.767937         -73.964630   \n",
      "1                1        -73.980415        40.738564         -73.999481   \n",
      "2                1        -73.979027        40.763939         -74.005333   \n",
      "3                1        -74.010040        40.719971         -74.012268   \n",
      "4                1        -73.973053        40.793209         -73.972923   \n",
      "\n",
      "   dropoff_latitude store_and_fwd_flag  trip_duration  \n",
      "0         40.765602                  N            455  \n",
      "1         40.731152                  N            663  \n",
      "2         40.710087                  N           2124  \n",
      "3         40.706718                  N            429  \n",
      "4         40.782520                  N            435  \n",
      "(1458644, 11)\n"
     ]
    }
   ],
   "source": [
    "#load all the data and display\n",
    "\n",
    "df = pd.read_csv('train.csv')\n",
    "\n",
    "print(df.head())\n",
    "print(df.shape)"
   ]
  },
  {
   "cell_type": "markdown",
   "metadata": {},
   "source": [
    "## visualization"
   ]
  },
  {
   "cell_type": "code",
   "execution_count": 9,
   "metadata": {},
   "outputs": [
    {
     "data": {
      "text/plain": [
       "id                    0\n",
       "vendor_id             0\n",
       "pickup_datetime       0\n",
       "dropoff_datetime      0\n",
       "passenger_count       0\n",
       "pickup_longitude      0\n",
       "pickup_latitude       0\n",
       "dropoff_longitude     0\n",
       "dropoff_latitude      0\n",
       "store_and_fwd_flag    0\n",
       "trip_duration         0\n",
       "dtype: int64"
      ]
     },
     "execution_count": 9,
     "metadata": {},
     "output_type": "execute_result"
    }
   ],
   "source": [
    "df.isnull().sum()"
   ]
  },
  {
   "cell_type": "markdown",
   "metadata": {},
   "source": [
    "Base on the number above, the data has been preprocessed, because there is no null entry"
   ]
  },
  {
   "cell_type": "code",
   "execution_count": 17,
   "metadata": {},
   "outputs": [
    {
     "name": "stdout",
     "output_type": "stream",
     "text": [
      "2    780302\n",
      "1    678342\n",
      "Name: vendor_id, dtype: int64\n",
      "[780302 678342]\n"
     ]
    }
   ],
   "source": [
    "#which vendor is the most popular\n",
    "vendor = df.vendor_id.value_counts()\n",
    "\n",
    "num_vendor = pd.Series(vendor).values\n",
    "print(vendor)\n",
    "print(num_vendor)"
   ]
  },
  {
   "cell_type": "code",
   "execution_count": 20,
   "metadata": {},
   "outputs": [
    {
     "data": {
      "image/png": "[encoded data removed]",
      "text/plain": [
       "<matplotlib.figure.Figure at 0x7f62d1424748>"
      ]
     },
     "metadata": {},
     "output_type": "display_data"
    }
   ],
   "source": [
    "objects = ('Vendor 1', 'Vendor 2')\n",
    "y_pos = np.arange(len(objects))\n",
    "\n",
    "num_vendor = num_vendor[::-1]\n",
    " \n",
    "plt.bar(y_pos, num_vendor, align='center', alpha=0.5)\n",
    "plt.xticks(y_pos, objects)\n",
    "plt.ylabel('Num of Rides')\n",
    "plt.title('Number of Rides for Each Taxi Vendor')\n",
    " \n",
    "plt.show()"
   ]
  },
  {
   "cell_type": "code",
   "execution_count": null,
   "metadata": {},
   "outputs": [],
   "source": []
  },
  {
   "cell_type": "code",
   "execution_count": 3,
   "metadata": {},
   "outputs": [],
   "source": [
    "# %%time\n",
    "# test = df.take(np.random.permutation(len(df))[:2000])\n",
    "\n",
    "\n",
    "\n",
    "# X_pick = df['pickup_longitude'].iloc[0:1500]\n",
    "# y_pick = df['pickup_latitude'].iloc[0:1500]\n",
    "\n",
    "\n",
    "\n",
    "# X_drop = df['dropoff_longitude'].iloc[0:1500]\n",
    "# y_drop = df['dropoff_latitude'].iloc[0:1500]\n",
    "\n",
    "# trace = go.Scattergeo(locationmode = 'USA-states',\n",
    "#         lon = X_pick,\n",
    "#         lat = y_pick,\n",
    "#         text = \"Pick Up Location\",\n",
    "#         mode = 'markers',\n",
    "#         marker = dict(\n",
    "#             size = 8,\n",
    "#             opacity = 0.8,\n",
    "#             reversescale = True,\n",
    "#             autocolorscale = False,\n",
    "#             symbol = 'square',\n",
    "#             line = dict(\n",
    "#                 width=1,\n",
    "#                 color='rgba(102, 102, 102)'\n",
    "#             ),\n",
    "       \n",
    "#         )\n",
    "#     )\n",
    "\n",
    "# trace_2 = go.Scattergeo(locationmode = 'USA-states',\n",
    "#         lon = X_drop,\n",
    "#         lat = y_drop,\n",
    "#         text = \"Drop Off Location\",\n",
    "#         mode = 'markers',\n",
    "#         marker = dict(\n",
    "#             size = 8,\n",
    "#             opacity = 0.8,\n",
    "#             reversescale = True,\n",
    "#             autocolorscale = False,\n",
    "#             symbol = 'circle',\n",
    "#             line = dict(\n",
    "#                 width=1,\n",
    "#                 color='rgba(255, 0, 0, 0.4)'\n",
    "#             ),\n",
    "       \n",
    "#         )\n",
    "#     )\n",
    "\n",
    "# layout = dict(\n",
    "#         title = 'NYC Taxi pick/drop location',\n",
    "# #         colorbar = True,\n",
    "#         geo = dict(\n",
    "#             scope='usa',\n",
    "#             projection=dict( type='albers usa' ),\n",
    "# #             projection=dict( type = 'Mercator' ),\n",
    "#             showland = True,\n",
    "#             landcolor = \"rgb(250, 250, 250)\",\n",
    "#             subunitcolor = \"rgb(217, 217, 217)\",\n",
    "#             countrycolor = \"rgb(217, 217, 217)\",\n",
    "#             countrywidth = 0.5,\n",
    "#             subunitwidth = 0.5,\n",
    "            \n",
    "#             lonaxis = dict( range= [ -74.05, -73] ),\n",
    "#             lataxis = dict( range= [40.5, 41] ),\n",
    "            \n",
    "#             center = dict(lon= -73.980415, lat =40.763939)\n",
    "            \n",
    "#         ),\n",
    "#     )\n",
    "\n",
    "# fig = dict( data=[trace, trace_2], layout=layout )\n",
    "# py_offline.iplot(fig, validate=False,)\n",
    "\n",
    "# fig = plt.figure()\n",
    "# ax1 = fig.add_subplot(111)\n",
    "\n",
    "# ax1.scatter(X_pick, y_pick, c='b', marker=\"s\", label='Pick up location')\n",
    "# ax1.scatter(X_drop,y_drop, c='r', marker=\"o\", label='Drop off location')\n",
    "# plt.legend(loc='upper left');\n",
    "# plt.show()\n"
   ]
  },
  {
   "cell_type": "code",
   "execution_count": 4,
   "metadata": {
    "scrolled": true
   },
   "outputs": [],
   "source": [
    "y = df['trip_duration']\n",
    "X = df.drop(['id', 'store_and_fwd_flag', 'pickup_datetime', 'dropoff_datetime',], axis=1)\n",
    "# print  the number of occurance\n",
    "\n",
    "X_train, X_test, y_train, y_test = train_test_split(X, y, test_size=0.33, random_state=42)\n"
   ]
  },
  {
   "cell_type": "code",
   "execution_count": 5,
   "metadata": {},
   "outputs": [],
   "source": [
    "#error function: RMLSE\n",
    "from sklearn.metrics import mean_squared_error\n",
    "def calculate_error(y_test, y_pred):\n",
    "\n",
    "    log_test = np.log(y_test+1)\n",
    "    log_pred = np.log(y_pred+1)\n",
    "    RMSE = np.sqrt(mean_squared_error(log_test, log_pred))\n",
    "    \n",
    "    return RMSE\n"
   ]
  },
  {
   "cell_type": "code",
   "execution_count": 7,
   "metadata": {},
   "outputs": [
    {
     "name": "stdout",
     "output_type": "stream",
     "text": [
      "building tree 1 of 47\n"
     ]
    },
    {
     "name": "stderr",
     "output_type": "stream",
     "text": [
      "[Parallel(n_jobs=1)]: Done   1 out of   1 | elapsed:    5.6s remaining:    0.0s\n"
     ]
    },
    {
     "name": "stdout",
     "output_type": "stream",
     "text": [
      "building tree 2 of 47\n",
      "building tree 3 of 47\n",
      "building tree 4 of 47\n",
      "building tree 5 of 47\n",
      "building tree 6 of 47\n",
      "building tree 7 of 47\n",
      "building tree 8 of 47\n",
      "building tree 9 of 47\n",
      "building tree 10 of 47\n",
      "building tree 11 of 47\n",
      "building tree 12 of 47\n",
      "building tree 13 of 47\n",
      "building tree 14 of 47\n",
      "building tree 15 of 47\n",
      "building tree 16 of 47\n",
      "building tree 17 of 47\n",
      "building tree 18 of 47\n",
      "building tree 19 of 47\n",
      "building tree 20 of 47\n",
      "building tree 21 of 47\n",
      "building tree 22 of 47\n",
      "building tree 23 of 47\n",
      "building tree 24 of 47\n",
      "building tree 25 of 47\n",
      "building tree 26 of 47\n",
      "building tree 27 of 47\n",
      "building tree 28 of 47\n",
      "building tree 29 of 47\n",
      "building tree 30 of 47\n",
      "building tree 31 of 47\n",
      "building tree 32 of 47\n",
      "building tree 33 of 47\n",
      "building tree 34 of 47\n",
      "building tree 35 of 47\n",
      "building tree 36 of 47\n",
      "building tree 37 of 47\n",
      "building tree 38 of 47\n",
      "building tree 39 of 47\n",
      "building tree 40 of 47\n",
      "building tree 41 of 47\n",
      "building tree 42 of 47\n",
      "building tree 43 of 47\n",
      "building tree 44 of 47\n",
      "building tree 45 of 47\n",
      "building tree 46 of 47\n",
      "building tree 47 of 47\n"
     ]
    },
    {
     "name": "stderr",
     "output_type": "stream",
     "text": [
      "[Parallel(n_jobs=1)]: Done  47 out of  47 | elapsed:  4.4min finished\n",
      "[Parallel(n_jobs=1)]: Done   1 out of   1 | elapsed:    0.0s remaining:    0.0s\n",
      "[Parallel(n_jobs=1)]: Done  47 out of  47 | elapsed:    2.3s finished\n"
     ]
    },
    {
     "name": "stdout",
     "output_type": "stream",
     "text": [
      "building tree 1 of 27\n"
     ]
    },
    {
     "name": "stderr",
     "output_type": "stream",
     "text": [
      "[Parallel(n_jobs=1)]: Done   1 out of   1 | elapsed:    6.7s remaining:    0.0s\n"
     ]
    },
    {
     "name": "stdout",
     "output_type": "stream",
     "text": [
      "building tree 2 of 27\n",
      "building tree 3 of 27\n",
      "building tree 4 of 27\n",
      "building tree 5 of 27\n",
      "building tree 6 of 27\n",
      "building tree 7 of 27\n",
      "building tree 8 of 27\n",
      "building tree 9 of 27\n",
      "building tree 10 of 27\n",
      "building tree 11 of 27\n",
      "building tree 12 of 27\n",
      "building tree 13 of 27\n",
      "building tree 14 of 27\n",
      "building tree 15 of 27\n",
      "building tree 16 of 27\n",
      "building tree 17 of 27\n",
      "building tree 18 of 27\n",
      "building tree 19 of 27\n",
      "building tree 20 of 27\n",
      "building tree 21 of 27\n",
      "building tree 22 of 27\n",
      "building tree 23 of 27\n",
      "building tree 24 of 27\n",
      "building tree 25 of 27\n",
      "building tree 26 of 27\n",
      "building tree 27 of 27\n"
     ]
    },
    {
     "name": "stderr",
     "output_type": "stream",
     "text": [
      "[Parallel(n_jobs=1)]: Done  27 out of  27 | elapsed:  2.9min finished\n",
      "[Parallel(n_jobs=1)]: Done   1 out of   1 | elapsed:    0.1s remaining:    0.0s\n",
      "[Parallel(n_jobs=1)]: Done  27 out of  27 | elapsed:    1.8s finished\n"
     ]
    },
    {
     "name": "stdout",
     "output_type": "stream",
     "text": [
      "building tree 1 of 48\n"
     ]
    },
    {
     "name": "stderr",
     "output_type": "stream",
     "text": [
      "[Parallel(n_jobs=1)]: Done   1 out of   1 | elapsed:    5.1s remaining:    0.0s\n"
     ]
    },
    {
     "name": "stdout",
     "output_type": "stream",
     "text": [
      "building tree 2 of 48\n",
      "building tree 3 of 48\n",
      "building tree 4 of 48\n",
      "building tree 5 of 48\n",
      "building tree 6 of 48\n",
      "building tree 7 of 48\n",
      "building tree 8 of 48\n",
      "building tree 9 of 48\n",
      "building tree 10 of 48\n",
      "building tree 11 of 48\n",
      "building tree 12 of 48\n",
      "building tree 13 of 48\n",
      "building tree 14 of 48\n",
      "building tree 15 of 48\n",
      "building tree 16 of 48\n",
      "building tree 17 of 48\n",
      "building tree 18 of 48\n",
      "building tree 19 of 48\n",
      "building tree 20 of 48\n",
      "building tree 21 of 48\n",
      "building tree 22 of 48\n",
      "building tree 23 of 48\n",
      "building tree 24 of 48\n",
      "building tree 25 of 48\n",
      "building tree 26 of 48\n",
      "building tree 27 of 48\n",
      "building tree 28 of 48\n",
      "building tree 29 of 48\n",
      "building tree 30 of 48\n",
      "building tree 31 of 48\n",
      "building tree 32 of 48\n",
      "building tree 33 of 48\n",
      "building tree 34 of 48\n",
      "building tree 35 of 48\n",
      "building tree 36 of 48\n",
      "building tree 37 of 48\n",
      "building tree 38 of 48\n",
      "building tree 39 of 48\n",
      "building tree 40 of 48\n",
      "building tree 41 of 48\n",
      "building tree 42 of 48\n",
      "building tree 43 of 48\n",
      "building tree 44 of 48\n",
      "building tree 45 of 48\n",
      "building tree 46 of 48\n",
      "building tree 47 of 48\n",
      "building tree 48 of 48\n"
     ]
    },
    {
     "name": "stderr",
     "output_type": "stream",
     "text": [
      "[Parallel(n_jobs=1)]: Done  48 out of  48 | elapsed:  4.0min finished\n",
      "[Parallel(n_jobs=1)]: Done   1 out of   1 | elapsed:    0.0s remaining:    0.0s\n",
      "[Parallel(n_jobs=1)]: Done  48 out of  48 | elapsed:    2.1s finished\n"
     ]
    },
    {
     "name": "stdout",
     "output_type": "stream",
     "text": [
      "building tree 1 of 48\n"
     ]
    },
    {
     "name": "stderr",
     "output_type": "stream",
     "text": [
      "[Parallel(n_jobs=1)]: Done   1 out of   1 | elapsed:    5.0s remaining:    0.0s\n"
     ]
    },
    {
     "name": "stdout",
     "output_type": "stream",
     "text": [
      "building tree 2 of 48\n",
      "building tree 3 of 48\n",
      "building tree 4 of 48\n",
      "building tree 5 of 48\n",
      "building tree 6 of 48\n",
      "building tree 7 of 48\n",
      "building tree 8 of 48\n",
      "building tree 9 of 48\n",
      "building tree 10 of 48\n",
      "building tree 11 of 48\n",
      "building tree 12 of 48\n",
      "building tree 13 of 48\n",
      "building tree 14 of 48\n",
      "building tree 15 of 48\n",
      "building tree 16 of 48\n",
      "building tree 17 of 48\n",
      "building tree 18 of 48\n",
      "building tree 19 of 48\n",
      "building tree 20 of 48\n",
      "building tree 21 of 48\n",
      "building tree 22 of 48\n",
      "building tree 23 of 48\n",
      "building tree 24 of 48\n",
      "building tree 25 of 48\n",
      "building tree 26 of 48\n",
      "building tree 27 of 48\n",
      "building tree 28 of 48\n",
      "building tree 29 of 48\n",
      "building tree 30 of 48\n",
      "building tree 31 of 48\n",
      "building tree 32 of 48\n",
      "building tree 33 of 48\n",
      "building tree 34 of 48\n",
      "building tree 35 of 48\n",
      "building tree 36 of 48\n",
      "building tree 37 of 48\n",
      "building tree 38 of 48\n",
      "building tree 39 of 48\n",
      "building tree 40 of 48\n",
      "building tree 41 of 48\n",
      "building tree 42 of 48\n",
      "building tree 43 of 48\n",
      "building tree 44 of 48\n",
      "building tree 45 of 48\n",
      "building tree 46 of 48\n",
      "building tree 47 of 48\n",
      "building tree 48 of 48\n"
     ]
    },
    {
     "name": "stderr",
     "output_type": "stream",
     "text": [
      "[Parallel(n_jobs=1)]: Done  48 out of  48 | elapsed:  4.1min finished\n",
      "[Parallel(n_jobs=1)]: Done   1 out of   1 | elapsed:    0.0s remaining:    0.0s\n",
      "[Parallel(n_jobs=1)]: Done  48 out of  48 | elapsed:    2.1s finished\n"
     ]
    },
    {
     "name": "stdout",
     "output_type": "stream",
     "text": [
      "building tree 1 of 41\n"
     ]
    },
    {
     "name": "stderr",
     "output_type": "stream",
     "text": [
      "[Parallel(n_jobs=1)]: Done   1 out of   1 | elapsed:    3.0s remaining:    0.0s\n"
     ]
    },
    {
     "name": "stdout",
     "output_type": "stream",
     "text": [
      "building tree 2 of 41\n",
      "building tree 3 of 41\n",
      "building tree 4 of 41\n",
      "building tree 5 of 41\n",
      "building tree 6 of 41\n",
      "building tree 7 of 41\n",
      "building tree 8 of 41\n",
      "building tree 9 of 41\n",
      "building tree 10 of 41\n",
      "building tree 11 of 41\n",
      "building tree 12 of 41\n",
      "building tree 13 of 41\n",
      "building tree 14 of 41\n",
      "building tree 15 of 41\n",
      "building tree 16 of 41\n",
      "building tree 17 of 41\n",
      "building tree 18 of 41\n",
      "building tree 19 of 41\n",
      "building tree 20 of 41\n",
      "building tree 21 of 41\n",
      "building tree 22 of 41\n",
      "building tree 23 of 41\n",
      "building tree 24 of 41\n",
      "building tree 25 of 41\n",
      "building tree 26 of 41\n",
      "building tree 27 of 41\n",
      "building tree 28 of 41\n",
      "building tree 29 of 41\n",
      "building tree 30 of 41\n",
      "building tree 31 of 41\n",
      "building tree 32 of 41\n",
      "building tree 33 of 41\n",
      "building tree 34 of 41\n",
      "building tree 35 of 41\n",
      "building tree 36 of 41\n",
      "building tree 37 of 41\n",
      "building tree 38 of 41\n",
      "building tree 39 of 41\n",
      "building tree 40 of 41\n",
      "building tree 41 of 41\n"
     ]
    },
    {
     "name": "stderr",
     "output_type": "stream",
     "text": [
      "[Parallel(n_jobs=1)]: Done  41 out of  41 | elapsed:  2.1min finished\n",
      "[Parallel(n_jobs=1)]: Done   1 out of   1 | elapsed:    0.0s remaining:    0.0s\n",
      "[Parallel(n_jobs=1)]: Done  41 out of  41 | elapsed:    0.9s finished\n"
     ]
    },
    {
     "name": "stdout",
     "output_type": "stream",
     "text": [
      "building tree 1 of 16\n"
     ]
    },
    {
     "name": "stderr",
     "output_type": "stream",
     "text": [
      "[Parallel(n_jobs=1)]: Done   1 out of   1 | elapsed:    4.1s remaining:    0.0s\n"
     ]
    },
    {
     "name": "stdout",
     "output_type": "stream",
     "text": [
      "building tree 2 of 16\n",
      "building tree 3 of 16\n",
      "building tree 4 of 16\n",
      "building tree 5 of 16\n",
      "building tree 6 of 16\n",
      "building tree 7 of 16\n",
      "building tree 8 of 16\n",
      "building tree 9 of 16\n",
      "building tree 10 of 16\n",
      "building tree 11 of 16\n",
      "building tree 12 of 16\n",
      "building tree 13 of 16\n",
      "building tree 14 of 16\n",
      "building tree 15 of 16\n",
      "building tree 16 of 16\n"
     ]
    },
    {
     "name": "stderr",
     "output_type": "stream",
     "text": [
      "[Parallel(n_jobs=1)]: Done  16 out of  16 | elapsed:  1.1min finished\n",
      "[Parallel(n_jobs=1)]: Done   1 out of   1 | elapsed:    0.0s remaining:    0.0s\n",
      "[Parallel(n_jobs=1)]: Done  16 out of  16 | elapsed:    0.5s finished\n"
     ]
    },
    {
     "name": "stdout",
     "output_type": "stream",
     "text": [
      "building tree 1 of 33\n"
     ]
    },
    {
     "name": "stderr",
     "output_type": "stream",
     "text": [
      "[Parallel(n_jobs=1)]: Done   1 out of   1 | elapsed:    3.5s remaining:    0.0s\n"
     ]
    },
    {
     "name": "stdout",
     "output_type": "stream",
     "text": [
      "building tree 2 of 33\n",
      "building tree 3 of 33\n",
      "building tree 4 of 33\n",
      "building tree 5 of 33\n",
      "building tree 6 of 33\n",
      "building tree 7 of 33\n",
      "building tree 8 of 33\n",
      "building tree 9 of 33\n",
      "building tree 10 of 33\n",
      "building tree 11 of 33\n",
      "building tree 12 of 33\n",
      "building tree 13 of 33\n",
      "building tree 14 of 33\n",
      "building tree 15 of 33\n",
      "building tree 16 of 33\n",
      "building tree 17 of 33\n",
      "building tree 18 of 33\n",
      "building tree 19 of 33\n",
      "building tree 20 of 33\n",
      "building tree 21 of 33\n",
      "building tree 22 of 33\n",
      "building tree 23 of 33\n",
      "building tree 24 of 33\n",
      "building tree 25 of 33\n",
      "building tree 26 of 33\n",
      "building tree 27 of 33\n",
      "building tree 28 of 33\n",
      "building tree 29 of 33\n",
      "building tree 30 of 33\n",
      "building tree 31 of 33\n",
      "building tree 32 of 33\n",
      "building tree 33 of 33\n"
     ]
    },
    {
     "name": "stderr",
     "output_type": "stream",
     "text": [
      "[Parallel(n_jobs=1)]: Done  33 out of  33 | elapsed:  2.0min finished\n",
      "[Parallel(n_jobs=1)]: Done   1 out of   1 | elapsed:    0.0s remaining:    0.0s\n",
      "[Parallel(n_jobs=1)]: Done  33 out of  33 | elapsed:    0.8s finished\n"
     ]
    },
    {
     "name": "stdout",
     "output_type": "stream",
     "text": [
      "building tree 1 of 33\n"
     ]
    },
    {
     "name": "stderr",
     "output_type": "stream",
     "text": [
      "[Parallel(n_jobs=1)]: Done   1 out of   1 | elapsed:    2.5s remaining:    0.0s\n"
     ]
    },
    {
     "name": "stdout",
     "output_type": "stream",
     "text": [
      "building tree 2 of 33\n",
      "building tree 3 of 33\n",
      "building tree 4 of 33\n",
      "building tree 5 of 33\n",
      "building tree 6 of 33\n",
      "building tree 7 of 33\n",
      "building tree 8 of 33\n",
      "building tree 9 of 33\n",
      "building tree 10 of 33\n",
      "building tree 11 of 33\n",
      "building tree 12 of 33\n",
      "building tree 13 of 33\n",
      "building tree 14 of 33\n",
      "building tree 15 of 33\n",
      "building tree 16 of 33\n",
      "building tree 17 of 33\n",
      "building tree 18 of 33\n",
      "building tree 19 of 33\n",
      "building tree 20 of 33\n",
      "building tree 21 of 33\n",
      "building tree 22 of 33\n",
      "building tree 23 of 33\n",
      "building tree 24 of 33\n",
      "building tree 25 of 33\n",
      "building tree 26 of 33\n",
      "building tree 27 of 33\n",
      "building tree 28 of 33\n",
      "building tree 29 of 33\n",
      "building tree 30 of 33\n",
      "building tree 31 of 33\n",
      "building tree 32 of 33\n",
      "building tree 33 of 33\n"
     ]
    },
    {
     "name": "stderr",
     "output_type": "stream",
     "text": [
      "[Parallel(n_jobs=1)]: Done  33 out of  33 | elapsed:  1.4min finished\n",
      "[Parallel(n_jobs=1)]: Done   1 out of   1 | elapsed:    0.0s remaining:    0.0s\n",
      "[Parallel(n_jobs=1)]: Done  33 out of  33 | elapsed:    0.6s finished\n"
     ]
    },
    {
     "name": "stdout",
     "output_type": "stream",
     "text": [
      "building tree 1 of 23\n"
     ]
    },
    {
     "name": "stderr",
     "output_type": "stream",
     "text": [
      "[Parallel(n_jobs=1)]: Done   1 out of   1 | elapsed:    3.7s remaining:    0.0s\n"
     ]
    },
    {
     "name": "stdout",
     "output_type": "stream",
     "text": [
      "building tree 2 of 23\n",
      "building tree 3 of 23\n",
      "building tree 4 of 23\n",
      "building tree 5 of 23\n",
      "building tree 6 of 23\n",
      "building tree 7 of 23\n",
      "building tree 8 of 23\n",
      "building tree 9 of 23\n",
      "building tree 10 of 23\n",
      "building tree 11 of 23\n",
      "building tree 12 of 23\n",
      "building tree 13 of 23\n",
      "building tree 14 of 23\n",
      "building tree 15 of 23\n",
      "building tree 16 of 23\n",
      "building tree 17 of 23\n",
      "building tree 18 of 23\n",
      "building tree 19 of 23\n",
      "building tree 20 of 23\n",
      "building tree 21 of 23\n",
      "building tree 22 of 23\n",
      "building tree 23 of 23\n"
     ]
    },
    {
     "name": "stderr",
     "output_type": "stream",
     "text": [
      "[Parallel(n_jobs=1)]: Done  23 out of  23 | elapsed:  1.4min finished\n",
      "[Parallel(n_jobs=1)]: Done   1 out of   1 | elapsed:    0.0s remaining:    0.0s\n",
      "[Parallel(n_jobs=1)]: Done  23 out of  23 | elapsed:    0.6s finished\n"
     ]
    },
    {
     "name": "stdout",
     "output_type": "stream",
     "text": [
      "building tree 1 of 32\n"
     ]
    },
    {
     "name": "stderr",
     "output_type": "stream",
     "text": [
      "[Parallel(n_jobs=1)]: Done   1 out of   1 | elapsed:    4.7s remaining:    0.0s\n"
     ]
    },
    {
     "name": "stdout",
     "output_type": "stream",
     "text": [
      "building tree 2 of 32\n",
      "building tree 3 of 32\n",
      "building tree 4 of 32\n",
      "building tree 5 of 32\n",
      "building tree 6 of 32\n",
      "building tree 7 of 32\n",
      "building tree 8 of 32\n",
      "building tree 9 of 32\n",
      "building tree 10 of 32\n",
      "building tree 11 of 32\n",
      "building tree 12 of 32\n",
      "building tree 13 of 32\n",
      "building tree 14 of 32\n",
      "building tree 15 of 32\n",
      "building tree 16 of 32\n",
      "building tree 17 of 32\n",
      "building tree 18 of 32\n",
      "building tree 19 of 32\n",
      "building tree 20 of 32\n",
      "building tree 21 of 32\n",
      "building tree 22 of 32\n",
      "building tree 23 of 32\n",
      "building tree 24 of 32\n",
      "building tree 25 of 32\n",
      "building tree 26 of 32\n",
      "building tree 27 of 32\n",
      "building tree 28 of 32\n",
      "building tree 29 of 32\n",
      "building tree 30 of 32\n",
      "building tree 31 of 32\n",
      "building tree 32 of 32\n"
     ]
    },
    {
     "name": "stderr",
     "output_type": "stream",
     "text": [
      "[Parallel(n_jobs=1)]: Done  32 out of  32 | elapsed:  2.5min finished\n",
      "[Parallel(n_jobs=1)]: Done   1 out of   1 | elapsed:    0.0s remaining:    0.0s\n",
      "[Parallel(n_jobs=1)]: Done  32 out of  32 | elapsed:    1.2s finished\n"
     ]
    },
    {
     "name": "stdout",
     "output_type": "stream",
     "text": [
      "building tree 1 of 23\n"
     ]
    },
    {
     "name": "stderr",
     "output_type": "stream",
     "text": [
      "[Parallel(n_jobs=1)]: Done   1 out of   1 | elapsed:    5.2s remaining:    0.0s\n"
     ]
    },
    {
     "name": "stdout",
     "output_type": "stream",
     "text": [
      "building tree 2 of 23\n",
      "building tree 3 of 23\n",
      "building tree 4 of 23\n",
      "building tree 5 of 23\n",
      "building tree 6 of 23\n",
      "building tree 7 of 23\n",
      "building tree 8 of 23\n",
      "building tree 9 of 23\n",
      "building tree 10 of 23\n",
      "building tree 11 of 23\n",
      "building tree 12 of 23\n",
      "building tree 13 of 23\n",
      "building tree 14 of 23\n",
      "building tree 15 of 23\n",
      "building tree 16 of 23\n",
      "building tree 17 of 23\n",
      "building tree 18 of 23\n",
      "building tree 19 of 23\n",
      "building tree 20 of 23\n",
      "building tree 21 of 23\n",
      "building tree 22 of 23\n",
      "building tree 23 of 23\n"
     ]
    },
    {
     "name": "stderr",
     "output_type": "stream",
     "text": [
      "[Parallel(n_jobs=1)]: Done  23 out of  23 | elapsed:  2.0min finished\n",
      "[Parallel(n_jobs=1)]: Done   1 out of   1 | elapsed:    0.0s remaining:    0.0s\n",
      "[Parallel(n_jobs=1)]: Done  23 out of  23 | elapsed:    1.0s finished\n"
     ]
    },
    {
     "name": "stdout",
     "output_type": "stream",
     "text": [
      "building tree 1 of 28\n"
     ]
    },
    {
     "name": "stderr",
     "output_type": "stream",
     "text": [
      "[Parallel(n_jobs=1)]: Done   1 out of   1 | elapsed:    3.2s remaining:    0.0s\n"
     ]
    },
    {
     "name": "stdout",
     "output_type": "stream",
     "text": [
      "building tree 2 of 28\n",
      "building tree 3 of 28\n",
      "building tree 4 of 28\n",
      "building tree 5 of 28\n",
      "building tree 6 of 28\n",
      "building tree 7 of 28\n",
      "building tree 8 of 28\n",
      "building tree 9 of 28\n",
      "building tree 10 of 28\n",
      "building tree 11 of 28\n",
      "building tree 12 of 28\n",
      "building tree 13 of 28\n",
      "building tree 14 of 28\n",
      "building tree 15 of 28\n",
      "building tree 16 of 28\n",
      "building tree 17 of 28\n",
      "building tree 18 of 28\n",
      "building tree 19 of 28\n",
      "building tree 20 of 28\n",
      "building tree 21 of 28\n",
      "building tree 22 of 28\n",
      "building tree 23 of 28\n",
      "building tree 24 of 28\n",
      "building tree 25 of 28\n",
      "building tree 26 of 28\n",
      "building tree 27 of 28\n",
      "building tree 28 of 28\n"
     ]
    },
    {
     "name": "stderr",
     "output_type": "stream",
     "text": [
      "[Parallel(n_jobs=1)]: Done  28 out of  28 | elapsed:  1.5min finished\n",
      "[Parallel(n_jobs=1)]: Done   1 out of   1 | elapsed:    0.0s remaining:    0.0s\n",
      "[Parallel(n_jobs=1)]: Done  28 out of  28 | elapsed:    0.6s finished\n"
     ]
    },
    {
     "name": "stdout",
     "output_type": "stream",
     "text": [
      "building tree 1 of 16\n"
     ]
    },
    {
     "name": "stderr",
     "output_type": "stream",
     "text": [
      "[Parallel(n_jobs=1)]: Done   1 out of   1 | elapsed:    3.1s remaining:    0.0s\n"
     ]
    },
    {
     "name": "stdout",
     "output_type": "stream",
     "text": [
      "building tree 2 of 16\n",
      "building tree 3 of 16\n",
      "building tree 4 of 16\n",
      "building tree 5 of 16\n",
      "building tree 6 of 16\n",
      "building tree 7 of 16\n",
      "building tree 8 of 16\n",
      "building tree 9 of 16\n",
      "building tree 10 of 16\n",
      "building tree 11 of 16\n",
      "building tree 12 of 16\n",
      "building tree 13 of 16\n",
      "building tree 14 of 16\n",
      "building tree 15 of 16\n",
      "building tree 16 of 16\n"
     ]
    },
    {
     "name": "stderr",
     "output_type": "stream",
     "text": [
      "[Parallel(n_jobs=1)]: Done  16 out of  16 | elapsed:   49.1s finished\n",
      "[Parallel(n_jobs=1)]: Done   1 out of   1 | elapsed:    0.0s remaining:    0.0s\n",
      "[Parallel(n_jobs=1)]: Done  16 out of  16 | elapsed:    0.3s finished\n"
     ]
    },
    {
     "name": "stdout",
     "output_type": "stream",
     "text": [
      "building tree 1 of 22\n"
     ]
    },
    {
     "name": "stderr",
     "output_type": "stream",
     "text": [
      "[Parallel(n_jobs=1)]: Done   1 out of   1 | elapsed:    6.5s remaining:    0.0s\n"
     ]
    },
    {
     "name": "stdout",
     "output_type": "stream",
     "text": [
      "building tree 2 of 22\n",
      "building tree 3 of 22\n",
      "building tree 4 of 22\n",
      "building tree 5 of 22\n",
      "building tree 6 of 22\n",
      "building tree 7 of 22\n",
      "building tree 8 of 22\n",
      "building tree 9 of 22\n",
      "building tree 10 of 22\n",
      "building tree 11 of 22\n",
      "building tree 12 of 22\n",
      "building tree 13 of 22\n",
      "building tree 14 of 22\n",
      "building tree 15 of 22\n",
      "building tree 16 of 22\n",
      "building tree 17 of 22\n",
      "building tree 18 of 22\n",
      "building tree 19 of 22\n",
      "building tree 20 of 22\n",
      "building tree 21 of 22\n",
      "building tree 22 of 22\n"
     ]
    },
    {
     "name": "stderr",
     "output_type": "stream",
     "text": [
      "[Parallel(n_jobs=1)]: Done  22 out of  22 | elapsed:  2.5min finished\n",
      "[Parallel(n_jobs=1)]: Done   1 out of   1 | elapsed:    0.1s remaining:    0.0s\n",
      "[Parallel(n_jobs=1)]: Done  22 out of  22 | elapsed:    1.5s finished\n"
     ]
    },
    {
     "name": "stdout",
     "output_type": "stream",
     "text": [
      "building tree 1 of 44\n"
     ]
    },
    {
     "name": "stderr",
     "output_type": "stream",
     "text": [
      "[Parallel(n_jobs=1)]: Done   1 out of   1 | elapsed:    4.9s remaining:    0.0s\n"
     ]
    },
    {
     "name": "stdout",
     "output_type": "stream",
     "text": [
      "building tree 2 of 44\n",
      "building tree 3 of 44\n",
      "building tree 4 of 44\n",
      "building tree 5 of 44\n",
      "building tree 6 of 44\n",
      "building tree 7 of 44\n",
      "building tree 8 of 44\n",
      "building tree 9 of 44\n",
      "building tree 10 of 44\n",
      "building tree 11 of 44\n",
      "building tree 12 of 44\n",
      "building tree 13 of 44\n",
      "building tree 14 of 44\n",
      "building tree 15 of 44\n",
      "building tree 16 of 44\n",
      "building tree 17 of 44\n",
      "building tree 18 of 44\n",
      "building tree 19 of 44\n",
      "building tree 20 of 44\n",
      "building tree 21 of 44\n",
      "building tree 22 of 44\n",
      "building tree 23 of 44\n",
      "building tree 24 of 44\n",
      "building tree 25 of 44\n",
      "building tree 26 of 44\n",
      "building tree 27 of 44\n",
      "building tree 28 of 44\n",
      "building tree 29 of 44\n",
      "building tree 30 of 44\n",
      "building tree 31 of 44\n",
      "building tree 32 of 44\n",
      "building tree 33 of 44\n",
      "building tree 34 of 44\n",
      "building tree 35 of 44\n",
      "building tree 36 of 44\n",
      "building tree 37 of 44\n",
      "building tree 38 of 44\n",
      "building tree 39 of 44\n",
      "building tree 40 of 44\n",
      "building tree 41 of 44\n",
      "building tree 42 of 44\n",
      "building tree 43 of 44\n",
      "building tree 44 of 44\n"
     ]
    },
    {
     "name": "stderr",
     "output_type": "stream",
     "text": [
      "[Parallel(n_jobs=1)]: Done  44 out of  44 | elapsed:  3.5min finished\n",
      "[Parallel(n_jobs=1)]: Done   1 out of   1 | elapsed:    0.0s remaining:    0.0s\n",
      "[Parallel(n_jobs=1)]: Done  44 out of  44 | elapsed:    1.6s finished\n"
     ]
    }
   ],
   "source": [
    "from sklearn.ensemble import RandomForestRegressor as RFR\n",
    "\n",
    "result_table = pd.DataFrame(columns =['num_est', \n",
    "                                      'max_depth', \n",
    "                                      'min_samples', \n",
    "                                      'error'])\n",
    "\n",
    "num_iterations = 15\n",
    "\n",
    "for i in range (num_iterations):\n",
    "    num_est = np.random.randint(10, 50)\n",
    "    max_depth = np.random.randint(5, 20)\n",
    "    min_samples_split = np.random.randint(2,50)\n",
    "    regr = RFR(n_estimators = num_est,\n",
    "          max_depth = max_depth,\n",
    "          min_samples_split = min_samples_split,\n",
    "          verbose = 2,\n",
    "          random_state = 2)\n",
    "\n",
    "    regr.fit(X_train, y_train)\n",
    "    y_pred = regr.predict(X_test)\n",
    "    \n",
    "    rmlse = calculate_error(y_pred, y_test)\n",
    "    \n",
    "    row = pd.DataFrame([[num_est, \n",
    "                             max_depth, \n",
    "                             min_samples_split,\n",
    "                        rmlse]],\n",
    "                         columns =['num_est', \n",
    "                                      'max_depth', \n",
    "                                      'min_samples', \n",
    "                                      'error'])\n",
    "                            \n",
    "    \n",
    "    result_table = result_table.append(row, ignore_index= True)"
   ]
  },
  {
   "cell_type": "code",
   "execution_count": 8,
   "metadata": {},
   "outputs": [
    {
     "data": {
      "text/html": [
       "<div>\n",
       "<style scoped>\n",
       "    .dataframe tbody tr th:only-of-type {\n",
       "        vertical-align: middle;\n",
       "    }\n",
       "\n",
       "    .dataframe tbody tr th {\n",
       "        vertical-align: top;\n",
       "    }\n",
       "\n",
       "    .dataframe thead th {\n",
       "        text-align: right;\n",
       "    }\n",
       "</style>\n",
       "<table border=\"1\" class=\"dataframe\">\n",
       "  <thead>\n",
       "    <tr style=\"text-align: right;\">\n",
       "      <th></th>\n",
       "      <th>num_est</th>\n",
       "      <th>max_depth</th>\n",
       "      <th>min_samples</th>\n",
       "      <th>error</th>\n",
       "    </tr>\n",
       "  </thead>\n",
       "  <tbody>\n",
       "    <tr>\n",
       "      <th>0</th>\n",
       "      <td>47</td>\n",
       "      <td>11</td>\n",
       "      <td>39</td>\n",
       "      <td>0.014720</td>\n",
       "    </tr>\n",
       "    <tr>\n",
       "      <th>1</th>\n",
       "      <td>27</td>\n",
       "      <td>17</td>\n",
       "      <td>34</td>\n",
       "      <td>0.002454</td>\n",
       "    </tr>\n",
       "    <tr>\n",
       "      <th>2</th>\n",
       "      <td>48</td>\n",
       "      <td>10</td>\n",
       "      <td>19</td>\n",
       "      <td>0.026390</td>\n",
       "    </tr>\n",
       "    <tr>\n",
       "      <th>3</th>\n",
       "      <td>48</td>\n",
       "      <td>10</td>\n",
       "      <td>22</td>\n",
       "      <td>0.026418</td>\n",
       "    </tr>\n",
       "    <tr>\n",
       "      <th>4</th>\n",
       "      <td>41</td>\n",
       "      <td>6</td>\n",
       "      <td>24</td>\n",
       "      <td>0.188851</td>\n",
       "    </tr>\n",
       "    <tr>\n",
       "      <th>5</th>\n",
       "      <td>16</td>\n",
       "      <td>8</td>\n",
       "      <td>41</td>\n",
       "      <td>0.081159</td>\n",
       "    </tr>\n",
       "    <tr>\n",
       "      <th>6</th>\n",
       "      <td>33</td>\n",
       "      <td>7</td>\n",
       "      <td>41</td>\n",
       "      <td>0.134667</td>\n",
       "    </tr>\n",
       "    <tr>\n",
       "      <th>7</th>\n",
       "      <td>33</td>\n",
       "      <td>5</td>\n",
       "      <td>37</td>\n",
       "      <td>0.265516</td>\n",
       "    </tr>\n",
       "    <tr>\n",
       "      <th>8</th>\n",
       "      <td>23</td>\n",
       "      <td>7</td>\n",
       "      <td>16</td>\n",
       "      <td>0.135268</td>\n",
       "    </tr>\n",
       "    <tr>\n",
       "      <th>9</th>\n",
       "      <td>32</td>\n",
       "      <td>9</td>\n",
       "      <td>5</td>\n",
       "      <td>0.047485</td>\n",
       "    </tr>\n",
       "    <tr>\n",
       "      <th>10</th>\n",
       "      <td>23</td>\n",
       "      <td>10</td>\n",
       "      <td>17</td>\n",
       "      <td>0.026728</td>\n",
       "    </tr>\n",
       "    <tr>\n",
       "      <th>11</th>\n",
       "      <td>28</td>\n",
       "      <td>6</td>\n",
       "      <td>13</td>\n",
       "      <td>0.190011</td>\n",
       "    </tr>\n",
       "    <tr>\n",
       "      <th>12</th>\n",
       "      <td>16</td>\n",
       "      <td>6</td>\n",
       "      <td>43</td>\n",
       "      <td>0.184977</td>\n",
       "    </tr>\n",
       "    <tr>\n",
       "      <th>13</th>\n",
       "      <td>22</td>\n",
       "      <td>15</td>\n",
       "      <td>36</td>\n",
       "      <td>0.002122</td>\n",
       "    </tr>\n",
       "    <tr>\n",
       "      <th>14</th>\n",
       "      <td>44</td>\n",
       "      <td>9</td>\n",
       "      <td>33</td>\n",
       "      <td>0.047073</td>\n",
       "    </tr>\n",
       "  </tbody>\n",
       "</table>\n",
       "</div>"
      ],
      "text/plain": [
       "   num_est max_depth min_samples     error\n",
       "0       47        11          39  0.014720\n",
       "1       27        17          34  0.002454\n",
       "2       48        10          19  0.026390\n",
       "3       48        10          22  0.026418\n",
       "4       41         6          24  0.188851\n",
       "5       16         8          41  0.081159\n",
       "6       33         7          41  0.134667\n",
       "7       33         5          37  0.265516\n",
       "8       23         7          16  0.135268\n",
       "9       32         9           5  0.047485\n",
       "10      23        10          17  0.026728\n",
       "11      28         6          13  0.190011\n",
       "12      16         6          43  0.184977\n",
       "13      22        15          36  0.002122\n",
       "14      44         9          33  0.047073"
      ]
     },
     "execution_count": 8,
     "metadata": {},
     "output_type": "execute_result"
    }
   ],
   "source": [
    "result_table"
   ]
  },
  {
   "cell_type": "code",
   "execution_count": 16,
   "metadata": {},
   "outputs": [],
   "source": []
  },
  {
   "cell_type": "code",
   "execution_count": null,
   "metadata": {},
   "outputs": [],
   "source": [
    "\n"
   ]
  },
  {
   "cell_type": "code",
   "execution_count": null,
   "metadata": {},
   "outputs": [],
   "source": []
  },
  {
   "cell_type": "code",
   "execution_count": null,
   "metadata": {},
   "outputs": [],
   "source": []
  }
 ],
 "metadata": {
  "kernelspec": {
   "display_name": "Python 3",
   "language": "python",
   "name": "python3"
  },
  "language_info": {
   "codemirror_mode": {
    "name": "ipython",
    "version": 3
   },
   "file_extension": ".py",
   "mimetype": "text/x-python",
   "name": "python",
   "nbconvert_exporter": "python",
   "pygments_lexer": "ipython3",
   "version": "3.5.2"
  }
 },
 "nbformat": 4,
 "nbformat_minor": 2
}
