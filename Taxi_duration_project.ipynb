{
 "cells": [
  {
   "cell_type": "markdown",
   "metadata": {},
   "source": [
    "# New York City Taxi Trip Duration"
   ]
  },
  {
   "cell_type": "markdown",
   "metadata": {},
   "source": [
    "In this competition, Kaggle is challenging you to build a model that predicts the total ride duration of taxi trips in New York City. Your primary dataset is one released by the NYC Taxi and Limousine Commission, which includes pickup time, geo-coordinates, number of passengers, and several other variables."
   ]
  },
  {
   "cell_type": "markdown",
   "metadata": {},
   "source": [
    "The evaluation metric for this competition is Root Mean Squared Logarithmic Error.\n",
    "\n",
    "The RMSLE is calculated as\n",
    "\n",
    "\n",
    "Where:\n",
    "\n",
    "ϵ is the RMSLE value (score)<br>\n",
    "n is the total number of observations in the (public/private) data set,<br>\n",
    "pi is your prediction of trip duration, and<br>\n",
    "ai is the actual trip duration for i.<br>\n",
    "log(x) is the natural logarithm of x<br>\n",
    "\n",
    "Submission File<br>\n",
    "\n",
    "For every row in the dataset, submission files should contain two columns: id and trip_duration.  The id corresponds to the column of that id in the test.csv. The file should contain a header and have the following format:\n",
    "\n",
    "|id |trip_duration|\n",
    "|:-:|:-:|\n",
    "|id00001|978|\n",
    "|id00002|978|\n",
    "|id00003|978|\n",
    "|id00004|978|\n"
   ]
  },
  {
   "cell_type": "code",
   "execution_count": 1,
   "metadata": {},
   "outputs": [
    {
     "data": {
      "text/html": [
       "<script>requirejs.config({paths: { 'plotly': ['https://cdn.plot.ly/plotly-latest.min']},});if(!window.Plotly) {{require(['plotly'],function(plotly) {window.Plotly=plotly;});}}</script>"
      ],
      "text/vnd.plotly.v1+html": [
       "<script>requirejs.config({paths: { 'plotly': ['https://cdn.plot.ly/plotly-latest.min']},});if(!window.Plotly) {{require(['plotly'],function(plotly) {window.Plotly=plotly;});}}</script>"
      ]
     },
     "metadata": {},
     "output_type": "display_data"
    }
   ],
   "source": [
    "%matplotlib inline\n",
    "import numpy as np\n",
    "import pandas as pd\n",
    "import matplotlib.pyplot as plt\n",
    "from sklearn import datasets\n",
    "from sklearn.model_selection import train_test_split\n",
    "import plotly.offline as py_offline\n",
    "import plotly.plotly as py\n",
    "import plotly.graph_objs as go\n",
    "\n",
    "py_offline.init_notebook_mode(connected=True)"
   ]
  },
  {
   "cell_type": "code",
   "execution_count": 2,
   "metadata": {},
   "outputs": [
    {
     "name": "stdout",
     "output_type": "stream",
     "text": [
      "          id  vendor_id      pickup_datetime     dropoff_datetime  \\\n",
      "0  id2875421          2  2016-03-14 17:24:55  2016-03-14 17:32:30   \n",
      "1  id2377394          1  2016-06-12 00:43:35  2016-06-12 00:54:38   \n",
      "2  id3858529          2  2016-01-19 11:35:24  2016-01-19 12:10:48   \n",
      "3  id3504673          2  2016-04-06 19:32:31  2016-04-06 19:39:40   \n",
      "4  id2181028          2  2016-03-26 13:30:55  2016-03-26 13:38:10   \n",
      "\n",
      "   passenger_count  pickup_longitude  pickup_latitude  dropoff_longitude  \\\n",
      "0                1        -73.982155        40.767937         -73.964630   \n",
      "1                1        -73.980415        40.738564         -73.999481   \n",
      "2                1        -73.979027        40.763939         -74.005333   \n",
      "3                1        -74.010040        40.719971         -74.012268   \n",
      "4                1        -73.973053        40.793209         -73.972923   \n",
      "\n",
      "   dropoff_latitude store_and_fwd_flag  trip_duration  \n",
      "0         40.765602                  N            455  \n",
      "1         40.731152                  N            663  \n",
      "2         40.710087                  N           2124  \n",
      "3         40.706718                  N            429  \n",
      "4         40.782520                  N            435  \n",
      "(1458644, 11)\n"
     ]
    }
   ],
   "source": [
    "#load all the data and display\n",
    "\n",
    "df = pd.read_csv('train.csv')\n",
    "\n",
    "print(df.head())\n",
    "print(df.shape)"
   ]
  },
  {
   "cell_type": "code",
   "execution_count": 3,
   "metadata": {},
   "outputs": [],
   "source": [
    "# %%time\n",
    "# test = df.take(np.random.permutation(len(df))[:2000])\n",
    "\n",
    "\n",
    "\n",
    "# X_pick = df['pickup_longitude'].iloc[0:1500]\n",
    "# y_pick = df['pickup_latitude'].iloc[0:1500]\n",
    "\n",
    "\n",
    "\n",
    "# X_drop = df['dropoff_longitude'].iloc[0:1500]\n",
    "# y_drop = df['dropoff_latitude'].iloc[0:1500]\n",
    "\n",
    "# trace = go.Scattergeo(locationmode = 'USA-states',\n",
    "#         lon = X_pick,\n",
    "#         lat = y_pick,\n",
    "#         text = \"Pick Up Location\",\n",
    "#         mode = 'markers',\n",
    "#         marker = dict(\n",
    "#             size = 8,\n",
    "#             opacity = 0.8,\n",
    "#             reversescale = True,\n",
    "#             autocolorscale = False,\n",
    "#             symbol = 'square',\n",
    "#             line = dict(\n",
    "#                 width=1,\n",
    "#                 color='rgba(102, 102, 102)'\n",
    "#             ),\n",
    "       \n",
    "#         )\n",
    "#     )\n",
    "\n",
    "# trace_2 = go.Scattergeo(locationmode = 'USA-states',\n",
    "#         lon = X_drop,\n",
    "#         lat = y_drop,\n",
    "#         text = \"Drop Off Location\",\n",
    "#         mode = 'markers',\n",
    "#         marker = dict(\n",
    "#             size = 8,\n",
    "#             opacity = 0.8,\n",
    "#             reversescale = True,\n",
    "#             autocolorscale = False,\n",
    "#             symbol = 'circle',\n",
    "#             line = dict(\n",
    "#                 width=1,\n",
    "#                 color='rgba(255, 0, 0, 0.4)'\n",
    "#             ),\n",
    "       \n",
    "#         )\n",
    "#     )\n",
    "\n",
    "# layout = dict(\n",
    "#         title = 'NYC Taxi pick/drop location',\n",
    "# #         colorbar = True,\n",
    "#         geo = dict(\n",
    "#             scope='usa',\n",
    "#             projection=dict( type='albers usa' ),\n",
    "# #             projection=dict( type = 'Mercator' ),\n",
    "#             showland = True,\n",
    "#             landcolor = \"rgb(250, 250, 250)\",\n",
    "#             subunitcolor = \"rgb(217, 217, 217)\",\n",
    "#             countrycolor = \"rgb(217, 217, 217)\",\n",
    "#             countrywidth = 0.5,\n",
    "#             subunitwidth = 0.5,\n",
    "            \n",
    "#             lonaxis = dict( range= [ -74.05, -73] ),\n",
    "#             lataxis = dict( range= [40.5, 41] ),\n",
    "            \n",
    "#             center = dict(lon= -73.980415, lat =40.763939)\n",
    "            \n",
    "#         ),\n",
    "#     )\n",
    "\n",
    "# fig = dict( data=[trace, trace_2], layout=layout )\n",
    "# py_offline.iplot(fig, validate=False,)\n",
    "\n",
    "# fig = plt.figure()\n",
    "# ax1 = fig.add_subplot(111)\n",
    "\n",
    "# ax1.scatter(X_pick, y_pick, c='b', marker=\"s\", label='Pick up location')\n",
    "# ax1.scatter(X_drop,y_drop, c='r', marker=\"o\", label='Drop off location')\n",
    "# plt.legend(loc='upper left');\n",
    "# plt.show()\n"
   ]
  },
  {
   "cell_type": "code",
   "execution_count": 12,
   "metadata": {
    "scrolled": true
   },
   "outputs": [],
   "source": [
    "y = df['trip_duration']\n",
    "X = df.drop(['id', 'store_and_fwd_flag', 'pickup_datetime', 'dropoff_datetime',], axis=1)\n",
    "# print  the number of occurance\n",
    "\n",
    "X_train, X_test, y_train, y_test = train_test_split(X, y, test_size=0.33, random_state=42)\n"
   ]
  },
  {
   "cell_type": "code",
   "execution_count": 13,
   "metadata": {},
   "outputs": [],
   "source": [
    "#error function: RMLSE\n",
    "from sklearn.metrics import mean_squared_error\n",
    "def calculate_error(y_test, y_pred):\n",
    "\n",
    "    log_test = np.log(y_test+1)\n",
    "    log_pred = np.log(y_pred+1)\n",
    "    RMSE = np.sqrt(mean_squared_error(log_test, log_pred))\n",
    "    \n",
    "    return RMSE\n"
   ]
  },
  {
   "cell_type": "code",
   "execution_count": 14,
   "metadata": {},
   "outputs": [],
   "source": [
    "# from sklearn.ensemble import RandomForestRegressor as RFR\n",
    "\n",
    "num_iterations = 15\n",
    "\n",
    "for i in range (num_iterations):\n",
    "    num_est = np.random.randint(10, 20)\n",
    "    max_depth = np.random.randint(5, 12)\n",
    "    min_samples_split = np.random.randint(2,50)\n",
    "    regr = RFR(n_estimators = num_est,\n",
    "          max_depth = max_depth,\n",
    "          min_samples_split = min_samples_split,\n",
    "          verbose = 2,\n",
    "          random_state = 2)\n",
    "\n",
    "    regr.fit(X_train, y_train)\n",
    "    y_pred = regr.predict(X_test)\n",
    "    \n",
    "    rmlse = calculate_error(y_pred, y_test)\n",
    "    print(\"RMSE for n_est = {}, max_depth = {}, min_sam = {} is: {}\".format(num_est, max_depth, min_samples_split, rmlse))\n",
    "    "
   ]
  },
  {
   "cell_type": "code",
   "execution_count": null,
   "metadata": {},
   "outputs": [],
   "source": []
  },
  {
   "cell_type": "code",
   "execution_count": 16,
   "metadata": {},
   "outputs": [],
   "source": [
    "# from sklearn.grid_search import GridSearchCV\n",
    "# from sklearn.ensemble import RandomForestRegressor as RFR\n",
    "# from sklearn.metrics import accuracy_score\n",
    "# from sklearn.metrics import make_scorer\n",
    "\n",
    "# param_grid = { \n",
    "#     'n_estimators': [80, 100, 150],\n",
    "#     'max_features': ['auto', 'sqrt', 'log2'],\n",
    "#     'max_depth': [10, 20, 30],\n",
    "#     'min_samples_split': [20, 30, 40, 50],   \n",
    "# }\n",
    "\n",
    "# rfr = RFR(verbose = 2,\n",
    "#           random_state = 2)\n",
    "\n",
    "# my_scorer = make_scorer(calculate_error, greater_is_better = False)\n",
    "# CV_rfr = GridSearchCV(estimator=rfr, param_grid=param_grid, cv= 5, scoring=my_scorer)\n",
    "# CV_rfr.fit(X_train, y_train)\n",
    "# y_pred = CV_rfr.predict(X_test)\n",
    "# print (CV_rfr.best_params_)"
   ]
  },
  {
   "cell_type": "code",
   "execution_count": null,
   "metadata": {},
   "outputs": [],
   "source": [
    "\n"
   ]
  },
  {
   "cell_type": "code",
   "execution_count": null,
   "metadata": {},
   "outputs": [],
   "source": []
  },
  {
   "cell_type": "code",
   "execution_count": null,
   "metadata": {},
   "outputs": [],
   "source": []
  }
 ],
 "metadata": {
  "kernelspec": {
   "display_name": "Python 3",
   "language": "python",
   "name": "python3"
  },
  "language_info": {
   "codemirror_mode": {
    "name": "ipython",
    "version": 3
   },
   "file_extension": ".py",
   "mimetype": "text/x-python",
   "name": "python",
   "nbconvert_exporter": "python",
   "pygments_lexer": "ipython3",
   "version": "3.5.2"
  }
 },
 "nbformat": 4,
 "nbformat_minor": 2
}
